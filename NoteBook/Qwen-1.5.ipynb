{
 "cells": [
  {
   "cell_type": "code",
   "execution_count": 2,
   "metadata": {},
   "outputs": [
    {
     "name": "stderr",
     "output_type": "stream",
     "text": [
      "/home/xiongrongkang/miniconda3/envs/FastChat2/lib/python3.10/site-packages/tqdm/auto.py:21: TqdmWarning: IProgress not found. Please update jupyter and ipywidgets. See https://ipywidgets.readthedocs.io/en/stable/user_install.html\n",
      "  from .autonotebook import tqdm as notebook_tqdm\n",
      "Special tokens have been added in the vocabulary, make sure the associated word embeddings are fine-tuned or trained.\n"
     ]
    }
   ],
   "source": [
    "from transformers import AutoModelForCausalLM\n",
    "from transformers import AutoModelForCausalLM, AutoTokenizer\n",
    "device = \"cuda:7\" # the device to load the model onto\n",
    "model_path = \"/platform_tech/models/Qwen1.5-1.8B-Chat\"\n",
    "\n",
    "model = AutoModelForCausalLM.from_pretrained(model_path, device_map=device)\n",
    "tokenizer = AutoTokenizer.from_pretrained(model_path)\n",
    "\n",
    "# model = AutoModelForCausalLM.from_pretrained(\"/platform_tech/models/Qwen1.5-4B-Chat\", device_map=\"auto\")"
   ]
  },
  {
   "cell_type": "code",
   "execution_count": 3,
   "metadata": {},
   "outputs": [
    {
     "name": "stderr",
     "output_type": "stream",
     "text": [
      "The attention mask and the pad token id were not set. As a consequence, you may observe unexpected behavior. Please pass your input's `attention_mask` to obtain reliable results.\n",
      "Setting `pad_token_id` to `eos_token_id`:151645 for open-end generation.\n"
     ]
    },
    {
     "name": "stdout",
     "output_type": "stream",
     "text": [
      "我是一个基于人工智能的语言模型，我可以回答各种问题、提供信息和建议，比如天气预报、新闻摘要、文化背景知识、历史事件、科学解释等等。此外，我还能够生成文本、写故事、撰写代码、聊天、提供建议、编写简历和分析情绪等任务。\n",
      "\n",
      "以下是一些我能完成的具体功能：\n",
      "\n",
      "1. 文本生成：我可以根据输入的文本主题或结构，自动生成符合语法规范和逻辑连贯的段落、句子或者文章。例如，在写一个描述秋天的短文时，我可以从\"落叶满地，金黄一片，微风轻拂过，带来一丝丝凉意\"这样的语句开始，然后继续描述秋季的各种景象和感受，最后总结出这个季节的美丽与宜人的特点。\n",
      "\n",
      "2. 历史知识查询：我可以提供详细的关于历史人物、事件、战争、文化传统等方面的信息。例如，如果你问\"谁是第一位登上珠穆朗玛峰的人？\"，我可以立即回答尼泊尔人夏尔巴人阿蒙森，并详细说明他的冒险历程和所取得的成就。\n",
      "\n",
      "3. 情绪分析：我可以通过分析用户的情感状态和行为模式，来提供相应的心理建议和情感支持。例如，如果你告诉我你感到焦虑或压力过大，我可以推荐一些放松技巧，如深呼吸、冥想、瑜伽等，也可以提供一些有效的情绪调节策略，如正面思考、自我对话、寻求专业帮助等。\n",
      "\n",
      "4. 语言翻译：我可以将一种语言翻译成另一种语言，支持全球范围内的跨文化交流。例如，你可以把一段英文短文翻译成中文，或者直接将中文翻译成英语。\n",
      "\n",
      "5. 知识问答：我可以回答关于科学、技术、历史、文学、艺术等领域的问题，无论是复杂的科学概念还是简单的常识性问题，都可以为你提供准确的答案。例如，当你询问\"为什么月亮在夜空中看起来那么大？\"时，我会告诉你这是因为月球离地球更近，它反射了我们所看到的大部分太阳光，所以看起来比较大。\n",
      "\n",
      "6. 调查报告撰写：我可以帮助你草拟和编辑调查报告，包括标题、目录、正文、结论、建议等内容，使你的报告更具说服力和实用性。我可以使用调研数据、案例研究、统计数据等多种方式为报告增添深度和广度。\n",
      "\n",
      "7. 编程代码实现：我可以协助开发人员编写代码，例如为网站设计、应用程序开发、游戏开发\n"
     ]
    }
   ],
   "source": [
    "\n",
    "prompt = \"你能干什么\"\n",
    "messages = [\n",
    "    {\"role\": \"system\", \"content\": \"You are a helpful assistant.\"},\n",
    "    {\"role\": \"user\", \"content\": prompt}\n",
    "]\n",
    "text = tokenizer.apply_chat_template(\n",
    "    messages,\n",
    "    tokenize=False,\n",
    "    add_generation_prompt=True\n",
    ")\n",
    "model_inputs = tokenizer([text], return_tensors=\"pt\").to(device)\n",
    "\n",
    "generated_ids = model.generate(\n",
    "    model_inputs.input_ids,\n",
    "    max_new_tokens=512\n",
    ")\n",
    "generated_ids = [\n",
    "    output_ids[len(input_ids):] for input_ids, output_ids in zip(model_inputs.input_ids, generated_ids)\n",
    "]\n",
    "\n",
    "response = tokenizer.batch_decode(generated_ids, skip_special_tokens=True)[0]\n",
    "print(response)"
   ]
  },
  {
   "cell_type": "code",
   "execution_count": null,
   "metadata": {},
   "outputs": [],
   "source": []
  }
 ],
 "metadata": {
  "kernelspec": {
   "display_name": "FastChat2",
   "language": "python",
   "name": "python3"
  },
  "language_info": {
   "codemirror_mode": {
    "name": "ipython",
    "version": 3
   },
   "file_extension": ".py",
   "mimetype": "text/x-python",
   "name": "python",
   "nbconvert_exporter": "python",
   "pygments_lexer": "ipython3",
   "version": "3.10.13"
  }
 },
 "nbformat": 4,
 "nbformat_minor": 2
}
